{
 "cells": [
  {
   "cell_type": "markdown",
   "metadata": {},
   "source": [
    "### **File Handling**\n",
    "File handling in Python allows you to read, write, and manipulate files on disk. Using built-in functions like open(), along with context managers (i.e., the with-statement), you can ensure that files are properly managed and closed after operations, reducing the risk of resource leaks. The os module provides a portable way of using operating system-dependent functionality such as interacting with the file system. With os, you can navigate directories, create or delete files and directories, and perform path manipulations. Mastering these concepts is essential for automating file-based tasks and managing system resources effectively."
   ]
  },
  {
   "cell_type": "code",
   "execution_count": 2,
   "metadata": {},
   "outputs": [
    {
     "name": "stdout",
     "output_type": "stream",
     "text": [
      "Error: The file 'sample.txt' was not found.\n",
      "File was never opened.\n"
     ]
    }
   ],
   "source": [
    "\"\"\"\n",
    "Objective: Open a file for reading and handle the error if the file does not exist.\n",
    "\"\"\"\n",
    "filename = \"sample.txt\"\n",
    "\n",
    "try:\n",
    "    file = open(filename, \"r\")\n",
    "    for line in file:\n",
    "        print(line, end=\"\")\n",
    "except FileNotFoundError:\n",
    "    print(f\"Error: The file '{filename}' was not found.\")\n",
    "finally:\n",
    "    try:\n",
    "        file.close()\n",
    "        print(\"File closed successfully.\")\n",
    "    except NameError:\n",
    "        print(\"File was never opened.\")\n",
    "\n",
    "# TODO: Modify the code to read the file line by line and print each line.\n"
   ]
  },
  {
   "cell_type": "code",
   "execution_count": 4,
   "metadata": {},
   "outputs": [
    {
     "name": "stdout",
     "output_type": "stream",
     "text": [
      "Text successfully written to 'output.txt'.\n",
      "File closed successfully.\n"
     ]
    }
   ],
   "source": [
    "\"\"\"\n",
    "Objective: Open a file for writing, write some sample text, and handle any potential errors.\n",
    "\"\"\"\n",
    "filename = \"output.txt\"\n",
    "text = \"This is a sample text written to the file.\\nIt has multiple lines.\"\n",
    "\n",
    "try:\n",
    "    file = open(filename, \"a\")\n",
    "    file.write(text+\"\\nWelcome to python scraping\")\n",
    "    print(f\"Text successfully written to '{filename}'.\")\n",
    "except Exception as e:\n",
    "    print(\"An error occurred while writing to the file:\", e)\n",
    "finally:\n",
    "    try:\n",
    "        file.close()\n",
    "        print(\"File closed successfully.\")\n",
    "    except NameError:\n",
    "        print(\"File was never opened.\")\n",
    "\n",
    "# TODO: Append a new line to the file instead of overwriting it.\n"
   ]
  },
  {
   "cell_type": "code",
   "execution_count": 6,
   "metadata": {},
   "outputs": [
    {
     "name": "stdout",
     "output_type": "stream",
     "text": [
      "Text successfully written to 'sample.txt'.\n"
     ]
    }
   ],
   "source": [
    "\"\"\"\n",
    "Objective: Use the with-statement to handle file reading, ensuring the file is automatically closed.\n",
    "\"\"\"\n",
    "filename = \"sample.txt\"\n",
    "text = \"This is a sample text written to the file.\\nIt has multiple lines.\"\n",
    "\n",
    "try:\n",
    "    with open(filename, \"w\") as file:\n",
    "        file.write(text)\n",
    "        print(f\"Text successfully written to '{filename}'.\")\n",
    "except FileNotFoundError:\n",
    "    print(f\"Error: The file '{filename}' does not exist.\")\n",
    "\n",
    "# TODO: Write a block using the with-statement to write data to a new file.\n"
   ]
  },
  {
   "cell_type": "code",
   "execution_count": null,
   "metadata": {},
   "outputs": [],
   "source": [
    "\"\"\"\n",
    "Objective: Read a file line by line using a for-loop and print each line.\n",
    "\"\"\"\n",
    "filename = \"sample.txt\"\n",
    "\n",
    "try:\n",
    "    with open(filename, \"r\") as file:\n",
    "        for line in file:\n",
    "            print(\"Line:\", line.strip())\n",
    "except FileNotFoundError:\n",
    "    print(f\"Error: The file '{filename}' was not found.\")\n",
    "\n",
    "# TODO: Count the number of lines in the file and print the count.\n"
   ]
  },
  {
   "cell_type": "code",
   "execution_count": 8,
   "metadata": {},
   "outputs": [
    {
     "name": "stdout",
     "output_type": "stream",
     "text": [
      "Additional text appended to 'output.txt'.\n",
      "File content after appending:\n",
      "This is a sample text written to the file.\n",
      "It has multiple lines.This is a sample text written to the file.\n",
      "It has multiple lines.\n",
      "Welcome to python scraping\n",
      "This is an additional line appended to the file.\n",
      "This is an additional line appended to the file.\n"
     ]
    }
   ],
   "source": [
    "\"\"\"\n",
    "Objective: Open a file in append mode to add new content without overwriting existing data.\n",
    "\"\"\"\n",
    "filename = \"output.txt\"\n",
    "additional_text = \"\\nThis is an additional line appended to the file.\"\n",
    "\n",
    "try:\n",
    "    with open(filename, \"a\") as file:\n",
    "        file.write(additional_text)\n",
    "        print(f\"Additional text appended to '{filename}'.\")\n",
    "    with open(filename, \"r\") as file:\n",
    "        content =file.read()\n",
    "        print(\"File content after appending:\")\n",
    "        print(content)\n",
    "except Exception as e:\n",
    "    print(\"An error occurred while appending to the file:\", e)\n",
    "\n",
    "# TODO: After appending, read the file back and print its entire content.\n"
   ]
  },
  {
   "cell_type": "code",
   "execution_count": 3,
   "metadata": {},
   "outputs": [
    {
     "name": "stdout",
     "output_type": "stream",
     "text": [
      "Current Working Directory: /home/rdm/RWID/course_assignments/03_python_fundamental\n",
      "Contents of the directory: /home/rdm/RWID/course_assignments/03_python_fundamental/example.txt\n"
     ]
    }
   ],
   "source": [
    "\"\"\"\n",
    "Objective: Use the os module to get the current working directory and list the contents of that directory.\n",
    "\"\"\"\n",
    "import os\n",
    "\n",
    "try:\n",
    "    current_dir = os.getcwd()\n",
    "    print(\"Current Working Directory:\", current_dir)\n",
    "    directory_contents = os.path.join(current_dir, 'example.txt')\n",
    "    print(\"Contents of the directory:\", directory_contents)\n",
    "    # for item in directory_contents:\n",
    "    #     print(item)\n",
    "except Exception as e:\n",
    "    print(\"An error occurred while accessing directory information:\", e)\n",
    "\n",
    "# TODO: Use os.path.join to create a full path for a file named 'example.txt' in the current directory and print it.\n"
   ]
  },
  {
   "cell_type": "code",
   "execution_count": 18,
   "metadata": {},
   "outputs": [
    {
     "name": "stdout",
     "output_type": "stream",
     "text": [
      "Directory 'test_dir' does not exist.\n",
      "Directory 'test_dir' created.\n",
      "Directory renamed to 'renamed_dir'.\n",
      "Directory 'renamed_dir' deleted.\n"
     ]
    }
   ],
   "source": [
    "\"\"\"\n",
    "Objective: Create a new directory, rename it, and then delete it, using the os module and handling exceptions.\n",
    "\"\"\"\n",
    "import os\n",
    "\n",
    "dir_name = \"test_dir\"\n",
    "new_dir_name = \"renamed_dir\"\n",
    "\n",
    "try:\n",
    "    # Check directory exist\n",
    "    if not os.path.exists(dir_name):\n",
    "        print(f\"Directory '{dir_name}' does not exist.\")\n",
    "    else:\n",
    "        print(f\"Directory '{dir_name}' exists.\")\n",
    "    # Create a new directory\n",
    "    os.mkdir(dir_name)\n",
    "    print(f\"Directory '{dir_name}' created.\")\n",
    "    \n",
    "    # Rename the directory\n",
    "    os.rename(dir_name, new_dir_name)\n",
    "    print(f\"Directory renamed to '{new_dir_name}'.\")\n",
    "    \n",
    "    # Delete the renamed directory\n",
    "    os.rmdir(new_dir_name)\n",
    "    print(f\"Directory '{new_dir_name}' deleted.\")\n",
    "except Exception as e:\n",
    "    print(\"An error occurred during directory operations:\", e)\n",
    "\n",
    "# TODO: Check if a directory exists before creating it, using os.path.exists.\n"
   ]
  },
  {
   "cell_type": "code",
   "execution_count": 20,
   "metadata": {},
   "outputs": [
    {
     "name": "stdout",
     "output_type": "stream",
     "text": [
      "Full path to the file: /home/rdm/RWID/course_assignments/03_python_fundamental/output.txt\n",
      "The file 'output.txt' exists.\n",
      "Name part: output, Extension: .txt\n"
     ]
    }
   ],
   "source": [
    "\"\"\"\n",
    "Objective: Use os.path to perform common file path operations such as joining paths and checking file existence.\n",
    "\"\"\"\n",
    "import os\n",
    "\n",
    "# Join directory and filename to create a full file path\n",
    "directory = os.getcwd()\n",
    "file_name = \"output.txt\"\n",
    "full_path = os.path.join(directory, file_name)\n",
    "print(\"Full path to the file:\", full_path)\n",
    "\n",
    "# Check if the file exists\n",
    "if os.path.exists(full_path):\n",
    "    print(f\"The file '{file_name}' exists.\")\n",
    "else:\n",
    "    print(f\"The file '{file_name}' does not exist.\")\n",
    "\n",
    "# Splitext function\n",
    "name_part, extension = os.path.splitext(file_name)\n",
    "print(f\"Name part: {name_part}, Extension: {extension}\")\n",
    "\n",
    "# TODO: Use os.path.splitext to split the file name and its extension, then print both.\n"
   ]
  },
  {
   "cell_type": "code",
   "execution_count": 7,
   "metadata": {},
   "outputs": [
    {
     "name": "stdout",
     "output_type": "stream",
     "text": [
      "File renamed from 'renamed_output.txt' to 'output.txt'.\n"
     ]
    }
   ],
   "source": [
    "\"\"\"\n",
    "Objective: Rename a file using the os module and handle any potential errors.\n",
    "\"\"\"\n",
    "import os\n",
    "\n",
    "old_filename = \"output.txt\"\n",
    "new_filename = \"renamed_output.txt\"\n",
    "\n",
    "try:\n",
    "    # Ensure the file exists before attempting to rename\n",
    "    if os.path.exists(new_filename):\n",
    "        os.rename(new_filename, old_filename)\n",
    "        print(f\"File renamed from '{new_filename}' to '{old_filename}'.\")\n",
    "    else:\n",
    "        print(f\"Error: The file '{old_filename}' does not exist.\")\n",
    "except Exception as e:\n",
    "    print(\"An error occurred while renaming the file:\", e)\n",
    "\n",
    "# TODO: Rename the file back to its original name.\n"
   ]
  },
  {
   "cell_type": "code",
   "execution_count": 10,
   "metadata": {},
   "outputs": [
    {
     "name": "stdout",
     "output_type": "stream",
     "text": [
      "Current Directory: /home/rdm/RWID/course_assignments/03_python_fundamental\n",
      "Files: ['02_looping_and_control_structures.ipynb', '01_variables_and_data_types.ipynb', '03_functions_and_modules.ipynb', '06_string_manipulation.ipynb', '07_list_vs_dictionary.ipynb', '05_file_handling.ipynb', '04_error_handling.ipynb', 'readme.md', 'sample.txt', 'output.txt']\n",
      "----------------------------------------\n",
      "Total number of files: 10\n"
     ]
    }
   ],
   "source": [
    "\"\"\"\n",
    "Objective: Use os.walk to recursively list all files and directories within a specified directory.\n",
    "\"\"\"\n",
    "import os\n",
    "\n",
    "directory_to_walk = os.getcwd()  # Use current directory for demonstration\n",
    "\n",
    "file_count = 0\n",
    "\n",
    "for root, dirs, files in os.walk(directory_to_walk):\n",
    "    print(\"Current Directory:\", root)\n",
    "    if dirs:\n",
    "        print(\"Subdirectories:\", dirs)\n",
    "    if files:\n",
    "        print(\"Files:\", files)\n",
    "        file_count += len(files)\n",
    "    print(\"-\" * 40)\n",
    "    print(f\"Total number of files: {file_count}\")\n",
    "\n",
    "# TODO: Modify the code to count and print the total number of files found in the directory tree.\n"
   ]
  },
  {
   "cell_type": "markdown",
   "metadata": {},
   "source": [
    "### **Reflection**\n",
    "Reflect on how file handling and the os module allow you to interact with the underlying operating system. Consider these questions:\n",
    "\n",
    "- How does using the with-statement improve file handling compared to the traditional open/close methods?\n",
    "- What are the advantages of using the os module for directory and file path operations?\n",
    "- How can robust error handling in file and OS operations prevent common pitfalls in automation scripts?\n",
    "\n",
    "(answer here)"
   ]
  },
  {
   "cell_type": "markdown",
   "metadata": {},
   "source": [
    "### **Exploration**\n",
    "For further exploration, research Pathlib, a modern alternative to the os module for handling file system paths, and explore Advanced File I/O techniques such as asynchronous file operations and context manager customization."
   ]
  }
 ],
 "metadata": {
  "kernelspec": {
   "display_name": ".venv",
   "language": "python",
   "name": "python3"
  },
  "language_info": {
   "codemirror_mode": {
    "name": "ipython",
    "version": 3
   },
   "file_extension": ".py",
   "mimetype": "text/x-python",
   "name": "python",
   "nbconvert_exporter": "python",
   "pygments_lexer": "ipython3",
   "version": "3.10.17"
  }
 },
 "nbformat": 4,
 "nbformat_minor": 2
}
