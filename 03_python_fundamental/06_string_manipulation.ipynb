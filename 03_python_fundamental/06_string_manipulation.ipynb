{
 "cells": [
  {
   "cell_type": "markdown",
   "metadata": {},
   "source": [
    "### **Dealing with String**\n",
    "When working on data scraping tasks, string manipulation is crucial for cleaning and processing the extracted data."
   ]
  },
  {
   "cell_type": "code",
   "execution_count": 1,
   "metadata": {},
   "outputs": [
    {
     "name": "stdout",
     "output_type": "stream",
     "text": [
      "Current page: https://www.python.org/page-3\n",
      "Page status code: 200\n"
     ]
    }
   ],
   "source": [
    "\"\"\"\n",
    "Objective: f-string printing\n",
    "\"\"\"\n",
    "current_page = \"https://www.python.org/page-3\"\n",
    "page_status_code = 200\n",
    "\n",
    "# TODO: Use f-string to print the current page and page status code\n",
    "# Expected output:\n",
    "# Current page: https://www.python.org/page-3\n",
    "# Page status code: 200\n",
    "print(f\"Current page: {current_page}\")\n",
    "print(f\"Page status code: {page_status_code}\")"
   ]
  },
  {
   "cell_type": "code",
   "execution_count": 2,
   "metadata": {},
   "outputs": [
    {
     "name": "stdout",
     "output_type": "stream",
     "text": [
      "30\n"
     ]
    }
   ],
   "source": [
    "\"\"\"\n",
    "Objective: Extract text from URL using .split()\n",
    "\"\"\"\n",
    "current_page = \"https://www.python.org/page-30\"\n",
    "\n",
    "# TODO: Extract the page number from the current_page\n",
    "# Expected output: \"30\"\n",
    "page_number = current_page.split(\"-\")[1]\n",
    "print(page_number)"
   ]
  },
  {
   "cell_type": "code",
   "execution_count": null,
   "metadata": {},
   "outputs": [
    {
     "name": "stdout",
     "output_type": "stream",
     "text": [
      "List of words: ['This', 'page', 'has', '30', 'results']\n",
      "number: ['30']\n"
     ]
    }
   ],
   "source": [
    "\"\"\"\n",
    "Objective: Extract number from URL using isdigit()\n",
    "\"\"\"\n",
    "texts = \"This page has 30 results\"\n",
    "\n",
    "# TODO: Split the texts into list of words\n",
    "list_of_words = texts.split(\" \")\n",
    "print(f\"List of words: {list_of_words}\")\n",
    "\n",
    "# TODO: Check if word is a number\n",
    "number = [part for part in list_of_words if part.isdigit()]\n",
    "\n",
    "# TODO: Print the word\n",
    "print(f\"number: {number}\")\n",
    "# Expected output: \"30\""
   ]
  },
  {
   "cell_type": "code",
   "execution_count": 6,
   "metadata": {},
   "outputs": [
    {
     "name": "stdout",
     "output_type": "stream",
     "text": [
      "Output: Welcome to Python!  \n"
     ]
    }
   ],
   "source": [
    "\"\"\"\n",
    "Objective: Clean Unwanted Characters using .strip()\n",
    "\"\"\"\n",
    "raw_data = \"  \\n\\t###Welcome to Python!###\\t\\n  \"\n",
    "\n",
    "# TODO: Remove the unwanted characters from raw_data\n",
    "cleaned = raw_data.strip(\" \\t\\n###\")\n",
    "print(f\"Output: {cleaned}  \")\n",
    "# Expected output: \"Welcome to Python!\""
   ]
  },
  {
   "cell_type": "code",
   "execution_count": 1,
   "metadata": {},
   "outputs": [
    {
     "name": "stdout",
     "output_type": "stream",
     "text": [
      "More content is available\n"
     ]
    }
   ],
   "source": [
    "\"\"\"\n",
    "Objective: Check if Content is Exist\n",
    "\"\"\"\n",
    "button_text = \"Load More\"\n",
    "\n",
    "if \"Load More\" in button_text:\n",
    "    print(\"More content is available\")\n",
    "else:\n",
    "    print(\"No more content\")\n",
    "# TODO: Check if \"Load More\" is in button_text\n",
    "# TODO: Print \"More content is available\" if true\n",
    "# TODO: Print \"No more content\" if false\n",
    "# Expected output: \"More content is available\""
   ]
  },
  {
   "cell_type": "code",
   "execution_count": 2,
   "metadata": {},
   "outputs": [
    {
     "name": "stdout",
     "output_type": "stream",
     "text": [
      "More content is available\n"
     ]
    }
   ],
   "source": [
    "\"\"\"\n",
    "Objective: Check if Content is Exist using .find()\n",
    "\"\"\"\n",
    "button_text = \"Load More\"\n",
    "if button_text.find(\"Load More\") != -1:\n",
    "    print(\"More content is available\")\n",
    "else:\n",
    "    print(\"No more content\")\n",
    "# TODO: Check if \"Load More\" is in button_text\n",
    "# TODO: Print \"More content is available\" if true\n",
    "# TODO: Print \"No more content\" if false\n",
    "# Expected output: \"More content is available\""
   ]
  },
  {
   "cell_type": "code",
   "execution_count": 3,
   "metadata": {},
   "outputs": [
    {
     "name": "stdout",
     "output_type": "stream",
     "text": [
      "List of words: ['Python', 'BeautifulSoup', 'Scrapy', 'Selenium', 'Web Scraping']\n"
     ]
    }
   ],
   "source": [
    "\"\"\"\n",
    "Objective: Split Data into a List\n",
    "\"\"\"\n",
    "keywords = \"Python, BeautifulSoup, Scrapy, Selenium, Web Scraping\"\n",
    "\n",
    "list_of_words = keywords.split(\", \")\n",
    "print(f\"List of words: {list_of_words}\")\n",
    "\n",
    "# TODO: Split keywords into a list\n",
    "# Expected output: [\"Python\", \"BeautifulSoup\", \"Scrapy\", \"Selenium\", \"Web Scraping\"]"
   ]
  },
  {
   "cell_type": "code",
   "execution_count": 4,
   "metadata": {},
   "outputs": [
    {
     "name": "stdout",
     "output_type": "stream",
     "text": [
      "Keyword String: Python, BeautifulSoup, Scrapy, Selenium, Web Scraping\n"
     ]
    }
   ],
   "source": [
    "\"\"\"\n",
    "Objective: Joining list to string\n",
    "\"\"\"\n",
    "keywords = [\"Python\", \"BeautifulSoup\", \"Scrapy\", \"Selenium\", \"Web Scraping\"]\n",
    "keywords_to_string = \", \".join(keywords)\n",
    "print(f\"Keyword String: {keywords_to_string}\")\n",
    "# TODO: Join keywords into a string with \", \"\n",
    "# Expected output: \"Python, BeautifulSoup, Scrapy, Selenium, Web Scraping\""
   ]
  },
  {
   "cell_type": "code",
   "execution_count": 5,
   "metadata": {},
   "outputs": [
    {
     "name": "stdout",
     "output_type": "stream",
     "text": [
      "https://www.example.com\n"
     ]
    }
   ],
   "source": [
    "\"\"\"\n",
    "Objective: Extract URL from text\n",
    "\"\"\"\n",
    "text = \"For more information visit https://www.example.com\"\n",
    "\n",
    "# TODO: Split the text into list of words\n",
    "text_list = text.split(\" \")\n",
    "# TODO: Check if word starts with \"https://\"\n",
    "for word in text_list:\n",
    "    if word.startswith(\"https://\"):\n",
    "        print(word)\n",
    "# TODO: Print the word\n",
    "# Expected output: \"https://www.example.com\""
   ]
  },
  {
   "cell_type": "code",
   "execution_count": 6,
   "metadata": {},
   "outputs": [
    {
     "name": "stdout",
     "output_type": "stream",
     "text": [
      "support@example.com\n"
     ]
    }
   ],
   "source": [
    "\"\"\"\n",
    "Objective: Extract email from text\n",
    "\"\"\"\n",
    "text = \"For more info, contact us at support@example.com or visit our website.\"\n",
    "\n",
    "# TODO: Split the text into list of words\n",
    "email_list = text.split(\" \")\n",
    "# TODO: Find the word that ends with \".com\"\n",
    "for word in email_list:\n",
    "    if word.endswith(\".com\"):\n",
    "        print(word)\n",
    "# TODO: Print the word\n",
    "# Expected output: \"support@example.com\""
   ]
  },
  {
   "cell_type": "code",
   "execution_count": 7,
   "metadata": {},
   "outputs": [
    {
     "name": "stdout",
     "output_type": "stream",
     "text": [
      "https://www.example.com/news-and-articles\n"
     ]
    }
   ],
   "source": [
    "\"\"\"\n",
    "Objective: Generate Slug for URLs using .replace()\n",
    "\"\"\"\n",
    "base_url = \"https://www.example.com\"\n",
    "section = \"News and Articles\"\n",
    "\n",
    "# TODO: Format section from \"News and Articles\" to \"news-and-articles\"\n",
    "slug = section.lower().replace(\" \", \"-\")\n",
    "# TODO: Combine base_url and section\n",
    "complte_url = f\"{base_url}/{slug}\"\n",
    "# TODO: Print the complete URL\n",
    "print(complte_url)\n",
    "# Expected output: \"https://www.example.com/news-and-articles\""
   ]
  },
  {
   "cell_type": "code",
   "execution_count": 10,
   "metadata": {},
   "outputs": [
    {
     "name": "stdout",
     "output_type": "stream",
     "text": [
      "hello;-world!-how;-are-you-today?\n"
     ]
    }
   ],
   "source": [
    "\"\"\" \n",
    "Objective: String manipulation\n",
    "\"\"\"\n",
    "message = \"   Hello, world! How, are you today? \"\n",
    "\n",
    "# TODO: Remove the leading and trailing spaces\n",
    "string_strip = message.strip()\n",
    "# TODO: Replace the spaces with \"-\"\n",
    "lower_string = string_strip.lower()\n",
    "replace_coma = lower_string.replace(\",\", \";\")\n",
    "slug = replace_coma.replace(\" \", \"-\")\n",
    "\n",
    "# Expected output: \"hello-world!-how;-are-you-today?\"\n",
    "print(slug)"
   ]
  },
  {
   "cell_type": "markdown",
   "metadata": {},
   "source": [
    "### **Reflection**\n",
    "What is the difference between using .find() and \"in\" to check if an element is exist in the text?\n",
    "\n",
    "(answer here)"
   ]
  },
  {
   "cell_type": "markdown",
   "metadata": {},
   "source": [
    "### **Exploration**\n",
    "Regular expressions are an advanced way to extract data using specific patterns and rules. While we will discuss regex in the intermediate level, it’s worth starting to learn it now."
   ]
  },
  {
   "cell_type": "markdown",
   "metadata": {},
   "source": []
  }
 ],
 "metadata": {
  "kernelspec": {
   "display_name": ".venv",
   "language": "python",
   "name": "python3"
  },
  "language_info": {
   "codemirror_mode": {
    "name": "ipython",
    "version": 3
   },
   "file_extension": ".py",
   "mimetype": "text/x-python",
   "name": "python",
   "nbconvert_exporter": "python",
   "pygments_lexer": "ipython3",
   "version": "3.10.17"
  }
 },
 "nbformat": 4,
 "nbformat_minor": 2
}
